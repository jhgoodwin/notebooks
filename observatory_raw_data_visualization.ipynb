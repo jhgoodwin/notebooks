{
 "cells": [
  {
   "cell_type": "code",
   "execution_count": 8,
   "metadata": {},
   "outputs": [
    {
     "name": "stdout",
     "output_type": "stream",
     "text": [
      "Rgb(255,255,255)\n"
     ]
    }
   ],
   "source": [
    "case class Rgb(red: Int, green: Int, blue: Int)\n",
    "case class TemperatureColor(temperature: Double, color: Rgb)\n",
    "\n",
    "val definedTemperatureColors: Vector[TemperatureColor] = Vector(\n",
    "    TemperatureColor(-60.0, Rgb(0, 0, 0)),\n",
    "    TemperatureColor(-50.0, Rgb(33, 0, 107)),\n",
    "    TemperatureColor(-27.0, Rgb(255, 0, 255)),\n",
    "    TemperatureColor(-15.0, Rgb(0, 0, 255)),\n",
    "    TemperatureColor(0.0, Rgb(0, 255, 255)),\n",
    "    TemperatureColor(12.0, Rgb(255, 255, 0)),\n",
    "    TemperatureColor(32.0, Rgb(255, 0, 0)),\n",
    "    TemperatureColor(60.0, Rgb(255,255,255))\n",
    ")\n",
    "def average[T]( ts: Iterable[T] )( implicit num: Numeric[T] ) = {\n",
    "  num.toDouble( ts.sum ) / ts.size\n",
    "}\n",
    "implicit def iterableWithAvg[T:Numeric](data:Iterable[T]) = new {\n",
    "  def avg = average(data)\n",
    "}\n",
    "\n",
    "def scaleInt(fromColor: Int, toColor: Int, ratio: Double): Int = {\n",
    "    math.round((math.abs(fromColor - toColor) * ratio) + math.min(fromColor,toColor)).toInt\n",
    "}\n",
    "def scaleColor(from: TemperatureColor, to: TemperatureColor, temperature: Double): Rgb = {\n",
    "    if (from.temperature == to.temperature) {\n",
    "        from.color\n",
    "    } else {\n",
    "        val ratio = (temperature - from.temperature) / (to.temperature - from.temperature)\n",
    "        val r = scaleInt(from.color.red, to.color.red, ratio)\n",
    "        val g = scaleInt(from.color.green, to.color.green, ratio)\n",
    "        val b = scaleInt(from.color.blue, to.color.blue, ratio)\n",
    "        Rgb(r,g,b)\n",
    "    }\n",
    "}\n",
    "def temperatureToColor(temperature: Double): Rgb = {\n",
    "    val temps = definedTemperatureColors\n",
    "    val highest = temps(temps.length-1)\n",
    "    val lowest = temps(0)\n",
    "    val below = \n",
    "        (temps.filter(_.temperature <= temperature) ++ Vector(lowest))\n",
    "        .sortWith(_.temperature > _.temperature)\n",
    "        .take(1).head\n",
    "    val above = \n",
    "        (temps.filter(_.temperature >= temperature) ++ Vector(highest))\n",
    "        .sortWith(_.temperature > _.temperature)\n",
    "        .take(1).head\n",
    "    //println((below, above))\n",
    "    scaleColor(below, above, temperature)\n",
    "    // less than or equal index 0 = index 0\n",
    "    // greater than or equal max index = max index\n",
    "    // equal to any other index = that index\n",
    "    // else scale of the index above/below using temperature in the bounds of above/below\n",
    "}\n",
    "//println(temperatureToColor(52.0))\n",
    "//println(temperatureToColor(48.0))\n",
    "//println(temperatureToColor(58.0))\n",
    "//println(temperatureToColor(60.0))\n",
    "println(temperatureToColor(60.1))\n"
   ]
  },
  {
   "cell_type": "code",
   "execution_count": 7,
   "metadata": {},
   "outputs": [
    {
     "name": "stdout",
     "output_type": "stream",
     "text": [
      "0.046758061192323376\n",
      "1400.5411573008334\n",
      "1386.9197536382394\n",
      "6.828356630537284\n"
     ]
    }
   ],
   "source": [
    "def haversineDistance(pointA: (Double, Double), pointB: (Double, Double)): Double = {\n",
    "    //val meanRadiusOfEarthInMiles = 3958.761\n",
    "    val meanRadiusOfEarthInKm = 6399.594\n",
    "    val deltaLat = math.toRadians(pointB._1 - pointA._1)\n",
    "    val deltaLong = math.toRadians(pointB._2 - pointA._2)\n",
    "    val a = math.pow(math.sin(deltaLat / 2), 2) + math.cos(math.toRadians(pointA._1)) * math.cos(math.toRadians(pointB._1)) * math.pow(math.sin(deltaLong / 2), 2)\n",
    "    val greatCircleDistance = 2 * math.atan2(math.sqrt(a), math.sqrt(1 - a))\n",
    "    //meanRadiusOfEarthInMiles * greatCircleDistance\n",
    "    meanRadiusOfEarthInKm * greatCircleDistance\n",
    "}\n",
    "/*\n",
    "Sample data for testing:\n",
    "http://www.tageo.com/index-e-in-weather-in.htm\n",
    "dd is degrees decimal, the reference page uses whole numbers with precision to 3 decimals.\n",
    "\n",
    "Station\tElevation\tLatitude (DD)\tLongitude (DD)\n",
    "Adilibad\t2690\t+19650\t+078533\n",
    "Agartala\t160\t+23883\t+091250\n",
    "Agra (in-afb)\t1690\t+27150\t+077967\n",
    "Agra-in-uttar\t1680\t+27167\t+078033\n",
    "Ahmadabad\t550\t+23067\t+072633\n",
    "Ahmadnagar\t6550\t+19083\t+074800\n",
    "*/\n",
    "val points = List(\n",
    "    (19.650, 78.533),\n",
    "    (23.883, 91.250),\n",
    "    (27.150, 77.967),\n",
    "    (27.167, 78.033),\n",
    "    (23.067, 72.633),\n",
    "    (19.083, 74.800)\n",
    ")\n",
    "val pointA = (51.168437004089355, -0.648922920227051)\n",
    "val pointB = (51.16805076599121, -0.64918041229248)\n",
    "println(haversineDistance(pointA, pointB))\n",
    "println(haversineDistance(points(0), points(1)))\n",
    "println(haversineDistance(points(1), points(2)))\n",
    "println(haversineDistance(points(2), points(3)))\n"
   ]
  },
  {
   "cell_type": "code",
   "execution_count": null,
   "metadata": {
    "collapsed": true
   },
   "outputs": [],
   "source": [
    "def interpolateColor(points: Iterable[(Double, Color)], value: Double): Color = {\n",
    "    \n",
    "}"
   ]
  }
 ],
 "metadata": {
  "kernelspec": {
   "display_name": "Apache Toree - Scala",
   "language": "scala",
   "name": "apache_toree_scala"
  },
  "language_info": {
   "file_extension": ".scala",
   "name": "scala",
   "version": "2.11.8"
  }
 },
 "nbformat": 4,
 "nbformat_minor": 2
}
